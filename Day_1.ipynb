{
  "nbformat": 4,
  "nbformat_minor": 0,
  "metadata": {
    "colab": {
      "name": "Untitled0.ipynb",
      "provenance": []
    },
    "kernelspec": {
      "name": "python3",
      "display_name": "Python 3"
    },
    "language_info": {
      "name": "python"
    }
  },
  "cells": [
    {
      "cell_type": "code",
      "execution_count": 13,
      "metadata": {
        "colab": {
          "base_uri": "https://localhost:8080/"
        },
        "id": "1INb4p9egSUU",
        "outputId": "3891eb71-465e-4b9e-bbde-4b4bc174e466"
      },
      "outputs": [
        {
          "output_type": "stream",
          "name": "stdout",
          "text": [
            "enter the values10 20 30\n",
            "60\n"
          ]
        }
      ],
      "source": [
        "num = [int(i) for i in input(\"enter the values\").split()]\n",
        "s=0\n",
        "for i in num:\n",
        "  s= s+i\n",
        "\n",
        "print (s)"
        "print (8)"
      ]
    },
    {
      "cell_type": "code",
      "source": [
        ""
      ],
      "metadata": {
        "id": "G1YVoccok_jf"
      },
      "execution_count": null,
      "outputs": []
    }
  ]
}
