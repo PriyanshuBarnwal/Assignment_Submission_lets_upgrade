{
  "nbformat": 4,
  "nbformat_minor": 0,
  "metadata": {
    "colab": {
      "name": "day 6.ipynb",
      "provenance": []
    },
    "kernelspec": {
      "name": "python3",
      "display_name": "Python 3"
    },
    "language_info": {
      "name": "python"
    }
  },
  "cells": [
    {
      "cell_type": "code",
      "execution_count": 76,
      "metadata": {
        "colab": {
          "base_uri": "https://localhost:8080/"
        },
        "id": "UlWs_Y621BAe",
        "outputId": "582fde55-d77f-48b4-e03f-88d369060742"
      },
      "outputs": [
        {
          "name": "stdout",
          "output_type": "stream",
          "text": [
            "Enter the numerator and denominator:- 3 8\n"
          ]
        },
        {
          "output_type": "execute_result",
          "data": {
            "text/plain": [
              "2"
            ]
          },
          "metadata": {},
          "execution_count": 76
        }
      ],
      "source": [
        "def div(num, den):\n",
        "  return num // den\n",
        "\n",
        "def mod_div(func):\n",
        "  def mod(a , b):\n",
        "    if a < b:\n",
        "      a, b = b, a\n",
        "    return func(a, b)\n",
        "    \n",
        "  return mod \n",
        "\n",
        "a, b = [int(i) for i in input(\"Enter the numerator and denominator:- \").split()]\n",
        "m = mod_div(div)\n",
        "m(a, b)\n"
      ]
    },
    {
      "cell_type": "code",
      "source": [
        ""
      ],
      "metadata": {
        "id": "gjwhgwfM2yAT"
      },
      "execution_count": 4,
      "outputs": []
    },
    {
      "cell_type": "code",
      "source": [
        ""
      ],
      "metadata": {
        "id": "fDRvw5TW27BJ"
      },
      "execution_count": null,
      "outputs": []
    }
  ]
}