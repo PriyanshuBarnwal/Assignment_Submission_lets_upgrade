{
  "nbformat": 4,
  "nbformat_minor": 0,
  "metadata": {
    "colab": {
      "name": "day3.ipynb",
      "provenance": []
    },
    "kernelspec": {
      "name": "python3",
      "display_name": "Python 3"
    },
    "language_info": {
      "name": "python"
    }
  },
  "cells": [
    {
      "cell_type": "code",
      "execution_count": null,
      "metadata": {
        "id": "bzFliWqyDQLf"
      },
      "outputs": [],
      "source": [
        "dic = {'roll1': 101, \"roll2\": 102, \"roll3\": 103, \"roll4\": 104}"
      ]
    },
    {
      "cell_type": "code",
      "source": [
        "max(dic.items())"
      ],
      "metadata": {
        "colab": {
          "base_uri": "https://localhost:8080/"
        },
        "id": "mGMwKTWoDx-9",
        "outputId": "314299bd-9c38-42ef-8161-7892d16f3295"
      },
      "execution_count": null,
      "outputs": [
        {
          "output_type": "execute_result",
          "data": {
            "text/plain": [
              "('roll4', 104)"
            ]
          },
          "metadata": {},
          "execution_count": 17
        }
      ]
    }
  ]
}