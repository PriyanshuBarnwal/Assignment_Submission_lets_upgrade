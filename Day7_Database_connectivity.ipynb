{
 "cells": [
  {
   "cell_type": "code",
   "execution_count": 13,
   "id": "ab3f4561",
   "metadata": {},
   "outputs": [
    {
     "name": "stdout",
     "output_type": "stream",
     "text": [
      "Old table:- \n",
      "(101, 'priyanshu', 80)\n",
      "(102, 'ravi', 99)\n",
      "Updated new table:-\n",
      "(101, 'priyanshu', 100)\n",
      "(102, 'ravi', 99)\n"
     ]
    }
   ],
   "source": [
    "import mysql.connector as con\n",
    "db = con.connect(host= \"localhost\", user = \"root\" ,passwd= \"\", database= \"essential\")\n",
    "cur = db.cursor()\n",
    "cur.execute(\"select * from student\")\n",
    "print(\"Old table:- \")\n",
    "for i in cur:\n",
    "    print(i)\n",
    "    \n",
    "cur.execute(\"UPDATE student SET mark= 100 WHERE sname='priyanshu'\")\n",
    "\n",
    "cur.execute(\"select * from student\")\n",
    "\n",
    "print(\"Updated new table:-\")\n",
    "for i in cur:\n",
    "    print(i)\n",
    "cur.close()\n",
    "db.commit()\n"
   ]
  }
 ],
 "metadata": {
  "kernelspec": {
   "display_name": "Python 3 (ipykernel)",
   "language": "python",
   "name": "python3"
  },
  "language_info": {
   "codemirror_mode": {
    "name": "ipython",
    "version": 3
   },
   "file_extension": ".py",
   "mimetype": "text/x-python",
   "name": "python",
   "nbconvert_exporter": "python",
   "pygments_lexer": "ipython3",
   "version": "3.9.7"
  }
 },
 "nbformat": 4,
 "nbformat_minor": 5
}
