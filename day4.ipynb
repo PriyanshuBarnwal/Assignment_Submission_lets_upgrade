{
  "nbformat": 4,
  "nbformat_minor": 0,
  "metadata": {
    "colab": {
      "name": "day4.ipynb",
      "provenance": []
    },
    "kernelspec": {
      "name": "python3",
      "display_name": "Python 3"
    },
    "language_info": {
      "name": "python"
    }
  },
  "cells": [
    {
      "cell_type": "code",
      "execution_count": 8,
      "metadata": {
        "id": "bzFliWqyDQLf",
        "colab": {
          "base_uri": "https://localhost:8080/"
        },
        "outputId": "d50b7d91-f632-4feb-c098-c4a695a583b4"
      },
      "outputs": [
        {
          "output_type": "stream",
          "name": "stdout",
          "text": [
            "Enter a number10\n",
            "3628800\n"
          ]
        }
      ],
      "source": [
        "def fact(num):\n",
        "  ans= 1\n",
        "  if num!= 0:\n",
        "    for i in range(1, num+1):\n",
        "      ans= ans * i\n",
        "  else:\n",
        "    ans = 0 \n",
        "  return ans\n",
        "\n",
        "num= int(input(\"Enter a number\"))\n",
        "print(fact(num))"
      ]
    },
    {
      "cell_type": "code",
      "source": [
        ""
      ],
      "metadata": {
        "id": "mGMwKTWoDx-9"
      },
      "execution_count": null,
      "outputs": []
    }
  ]
}