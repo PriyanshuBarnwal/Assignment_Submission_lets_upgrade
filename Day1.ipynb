{
  "nbformat": 4,
  "nbformat_minor": 0,
  "metadata": {
    "colab": {
      "name": "Untitled0.ipynb",
      "provenance": []
    },
    "kernelspec": {
      "name": "python3",
      "display_name": "Python 3"
    },
    "language_info": {
      "name": "python"
    }
  },
  "cells": [
    {
      "cell_type": "code",
      "execution_count": 10,
      "metadata": {
        "colab": {
          "base_uri": "https://localhost:8080/"
        },
        "id": "1INb4p9egSUU",
        "outputId": "5bfbbf72-663f-44d8-aeaa-4e3fd6f32eeb"
      },
      "outputs": [
        {
          "output_type": "stream",
          "name": "stdout",
          "text": [
            "enter the values10 20 30 40\n",
            "[10, 20, 30, 40]\n"
          ]
        }
      ],
      "source": [
        "num = [int(i) for i in input(\"enter the values\").split()]\n",
        "\n",
        "print(num)"
      ]
    },
    {
      "cell_type": "code",
      "source": [
        ""
      ],
      "metadata": {
        "id": "G1YVoccok_jf"
      },
      "execution_count": null,
      "outputs": []
    }
  ]
}