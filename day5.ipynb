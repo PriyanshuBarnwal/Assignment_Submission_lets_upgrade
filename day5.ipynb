{
  "nbformat": 4,
  "nbformat_minor": 0,
  "metadata": {
    "colab": {
      "name": "day5.ipynb",
      "provenance": []
    },
    "kernelspec": {
      "name": "python3",
      "display_name": "Python 3"
    },
    "language_info": {
      "name": "python"
    }
  },
  "cells": [
    {
      "cell_type": "code",
      "source": [
        "li = [1, 2, 3, 4, 5, 6, 7, 8, 9, 10, 11, 12, 13, 14, 15]\n",
        "print(\"The List is:- \", li)\n",
        "print(\"\\nThe Filtered List ,which is divisive by 3 and 5 is:-:-\", list(filter(lambda n: n%3==0 or n%5== 0, li)))"
      ],
      "metadata": {
        "colab": {
          "base_uri": "https://localhost:8080/"
        },
        "id": "0w7gLux6Uz76",
        "outputId": "9aa94d59-9a01-4f2e-f79a-c976a60b55ae"
      },
      "execution_count": 25,
      "outputs": [
        {
          "output_type": "stream",
          "name": "stdout",
          "text": [
            "The List is:-  [1, 2, 3, 4, 5, 6, 7, 8, 9, 10, 11, 12, 13, 14, 15]\n",
            "\n",
            "The Filtered List ,which is divisive by 3 and 5 is:-:- [3, 5, 6, 9, 10, 12, 15]\n"
          ]
        }
      ]
    }
  ]
}